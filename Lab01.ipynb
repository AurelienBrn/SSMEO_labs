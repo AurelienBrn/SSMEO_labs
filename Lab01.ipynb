{
 "cells": [
  {
   "cell_type": "markdown",
   "metadata": {},
   "source": [
    "# SSMEO Lab 01 : Image coordinates, distorsion model\n",
    "\n",
    "***"
   ]
  },
  {
   "cell_type": "markdown",
   "metadata": {},
   "source": [
    "### Import packages"
   ]
  },
  {
   "cell_type": "code",
   "execution_count": 2,
   "metadata": {},
   "outputs": [],
   "source": [
    "import numpy as np\n",
    "import cv2\n",
    "from scipy.optimize import fsolve"
   ]
  },
  {
   "cell_type": "markdown",
   "metadata": {},
   "source": [
    "## Part 01 : Image measurements\n",
    "***"
   ]
  },
  {
   "cell_type": "markdown",
   "metadata": {},
   "source": [
    "<div class=\"alert alert-block alert-info\">\n",
    "<b>Objectives:</b> In this section you will familiarize yourlsef with image format, image coordinates and manual measurements on images.\n",
    "</div>"
   ]
  },
  {
   "cell_type": "markdown",
   "metadata": {},
   "source": [
    "### Read image, define parameters"
   ]
  },
  {
   "cell_type": "code",
   "execution_count": 3,
   "metadata": {},
   "outputs": [],
   "source": [
    "im_path = '/media/topo/Data/ALS/Vallet/Images/18704.jpg'\n",
    "img = cv2.imread(im_path)\n",
    "\n",
    "out_path = '/media/topo/Data/ALS/Vallet/Images/'\n",
    "\n",
    "measurements = {'x':[], 'y':[]}"
   ]
  },
  {
   "cell_type": "markdown",
   "metadata": {},
   "source": [
    "### Define function to record image measurements "
   ]
  },
  {
   "cell_type": "code",
   "execution_count": 24,
   "metadata": {},
   "outputs": [],
   "source": [
    "def click_event(event, x, y, flags, measurements):\n",
    "    buf = 25\n",
    "    #On double left click :\n",
    "    if event == cv2.EVENT_LBUTTONDBLCLK:\n",
    "        #Draw cross at clicked pixel\n",
    "        cv2.line(img, (x,y-buf), (x,y+buf), (50,90,255), 1)\n",
    "        cv2.line(img, (x-buf,y), (x+buf,y), (50,90,255), 1)\n",
    "        cv2.putText(img, f\"{x}, {y}\",(x+5, y-5),cv2.FONT_HERSHEY_SIMPLEX,1,(50,90,255),2)\n",
    "\n",
    "        #Update image\n",
    "        cv2.imshow('Manual measurement', img)\n",
    "        \n",
    "        #Store clicked x and y coordinate into measurement dictionnary\n",
    "        measurements['x'].append(x)\n",
    "        measurements['y'].append(y)"
   ]
  },
  {
   "cell_type": "markdown",
   "metadata": {},
   "source": [
    "### Image display loop"
   ]
  },
  {
   "cell_type": "code",
   "execution_count": null,
   "metadata": {},
   "outputs": [],
   "source": [
    "cv2.namedWindow('Manual measurement', cv2.WINDOW_GUI_NORMAL)\n",
    "cv2.setMouseCallback('Manual measurement', click_event, measurements)\n",
    "cv2.imshow('Manual measurement', img)\n",
    "cv2.resizeWindow('Manual measurement', 1200,800)\n",
    "\n",
    "while True:\n",
    "    k = cv2.waitKey(100)\n",
    "    if k == 27: # wait for ESC key to exit\n",
    "        cv2.destroyAllWindows()\n",
    "        break        \n",
    "    if cv2.getWindowProperty('Manual measurement',cv2.WND_PROP_VISIBLE) < 1:# wait for window to be closed        \n",
    "        break        \n",
    "cv2.destroyAllWindows()"
   ]
  },
  {
   "cell_type": "markdown",
   "metadata": {},
   "source": [
    "<div class=\"alert alert-block alert-info\">\n",
    "Pay attention to the coordinates in pixels when you do a measurement. Where is the origin of X and Y axis ? How are they oriented ?\n",
    "</div>"
   ]
  },
  {
   "cell_type": "markdown",
   "metadata": {},
   "source": [
    "### Save measurements to txt file"
   ]
  },
  {
   "cell_type": "code",
   "execution_count": null,
   "metadata": {},
   "outputs": [],
   "source": [
    "xy_array = np.array([measurements['x'], measurements['y']]).T\n",
    "print(\"Saved measurements :\\n\" + str(xy_array))"
   ]
  },
  {
   "cell_type": "code",
   "execution_count": null,
   "metadata": {},
   "outputs": [],
   "source": [
    "np.savetxt(out_path + 'coord.txt', xy_array, fmt='%d')\n",
    "print(f\"Saving {xy_array.shape[0]} measurements to {out_path}coord.txt :\")"
   ]
  },
  {
   "cell_type": "markdown",
   "metadata": {},
   "source": [
    "## Part 02 : Correcting camera distorsion\n",
    "***"
   ]
  },
  {
   "cell_type": "markdown",
   "metadata": {},
   "source": [
    "<div class=\"alert alert-block alert-info\">\n",
    "<b>Objectives:</b> Cameras are not perfect and distorsion due to imperfect mounting and lens distorsion must me corrected to accurately map each pixel. In this section you will implement a simple distorsion model and apply it to your previously measurement points\n",
    "</div>"
   ]
  },
  {
   "cell_type": "markdown",
   "metadata": {},
   "source": [
    "### Import back saved measurements"
   ]
  },
  {
   "cell_type": "code",
   "execution_count": 3,
   "metadata": {},
   "outputs": [
    {
     "name": "stdout",
     "output_type": "stream",
     "text": [
      "[[7726. 1173.]\n",
      " [6513. 1697.]\n",
      " [4319. 1367.]\n",
      " [3999. 1901.]\n",
      " [2106. 1241.]\n",
      " [1980. 1823.]\n",
      " [3707. 1193.]\n",
      " [5775. 1697.]\n",
      " [8920.  776.]\n",
      " [6192.  843.]]\n"
     ]
    }
   ],
   "source": [
    "im_path = '/media/topo/Data/ALS/Vallet/Images/18704.jpg'\n",
    "img = cv2.imread(im_path)\n",
    "\n",
    "out_path = '/media/topo/Data/ALS/Vallet/Images/'\n",
    "xy_dist = np.loadtxt(out_path + 'coord.txt', delimiter=' ')\n",
    "print(xy_dist)"
   ]
  },
  {
   "cell_type": "markdown",
   "metadata": {},
   "source": [
    "### Define camera distorsion model"
   ]
  },
  {
   "cell_type": "markdown",
   "metadata": {},
   "source": [
    "We will use the simplified Contrady-Brown distorsion model. \n",
    "This model relates distorded image coordinates $x_d, y_d$ (the points you just measured), to the undistorded ones $x, y$ through radial coefs ($k_1, k_2$) and tangential coefs ($p_1, p_2$) :\n",
    "    \n",
    "$x_d = x(k_1*r² + k_2 * r⁴) + p_1(r² + 2*x²) + 2*p_2*x*y$\n",
    "    \n",
    "$y_d = y(k_1*r² + k_2 * r⁴) + p_2(r² + 2*y²) + 2*p_1*x*y$\n",
    "      \n",
    "$r² = x² + y²$"
   ]
  },
  {
   "cell_type": "markdown",
   "metadata": {},
   "source": [
    "<div class=\"alert alert-block alert-info\">\n",
    "Note the in this case, X and Y axis are not defined as in Part 01:    \n",
    "<ul>\n",
    "    <li>The origin is the optical center of the image</li>\n",
    "    <li>X is oriented horizontally →</li>\n",
    "    <li>Y completes the right hand system ↑</li>\n",
    "</ul> \n",
    "</div>"
   ]
  },
  {
   "cell_type": "markdown",
   "metadata": {},
   "source": [
    "<div class=\"alert alert-block alert-danger\">\n",
    "<b>To check</b> Replace distorsion coefficient below with real coeficient and check that the solving work properly on real data \n",
    "All coefficient = 0 does not correspond to and undistorded model, right ? Hard to evaluate the correctness of the model without knowing the coef corresponding to an udistorded lens. I need to try with real data and check values    \n",
    "</div>"
   ]
  },
  {
   "cell_type": "code",
   "execution_count": 4,
   "metadata": {},
   "outputs": [],
   "source": [
    "# Radial coefficients\n",
    "k1 = 0.0000000000015\n",
    "k2 = 0.000000000000015\n",
    "# Tangential coefficients\n",
    "p1 = 0.000000001\n",
    "p2 = 0.000000001"
   ]
  },
  {
   "cell_type": "code",
   "execution_count": 5,
   "metadata": {},
   "outputs": [],
   "source": [
    "def undistord_measurements(var,x_d,y_d,k1,k2,p1,p2):  \n",
    "    #Unpack variables\n",
    "    x, y = var\n",
    "  \n",
    "    r2 = x*x + y*y\n",
    "    \n",
    "    return [x*(k1*r2 + k2*r2*r2) + p1*(r2+2*x*x) + 2*p2*x*y-x_d,\n",
    "            y*(k1*r2 + k2*r2*r2) + p2*(r2+2*y*y) + 2*p1*x*y-y_d]"
   ]
  },
  {
   "cell_type": "markdown",
   "metadata": {},
   "source": [
    "### Change pixel coordinates system :\n",
    "From opencv's top-left origin, X axis →, Y axis ↓ \n",
    "\n",
    "To a system compatible with Contrady Brown model: center origin, X axis →, Y axis ↑"
   ]
  },
  {
   "cell_type": "code",
   "execution_count": 6,
   "metadata": {},
   "outputs": [
    {
     "name": "stdout",
     "output_type": "stream",
     "text": [
      "[[ 2562.  2707.]\n",
      " [ 1349.  2183.]\n",
      " [ -845.  2513.]\n",
      " [-1165.  1979.]\n",
      " [-3058.  2639.]\n",
      " [-3184.  2057.]\n",
      " [-1457.  2687.]\n",
      " [  611.  2183.]\n",
      " [ 3756.  3104.]\n",
      " [ 1028.  3037.]]\n"
     ]
    }
   ],
   "source": [
    "x_center = img.shape[1]//2\n",
    "y_center = img.shape[0]//2\n",
    "\n",
    "xy_dist_proj = (xy_dist - np.array([x_center,y_center]))*np.array([1,-1])\n",
    "print(xy_dist_proj)"
   ]
  },
  {
   "cell_type": "markdown",
   "metadata": {},
   "source": [
    "### Apply camera distorsion model"
   ]
  },
  {
   "cell_type": "code",
   "execution_count": 7,
   "metadata": {},
   "outputs": [
    {
     "name": "stdout",
     "output_type": "stream",
     "text": [
      "[[ 2071.36629739  2188.59860347]\n",
      " [ 1470.14725072  2379.05007935]\n",
      " [ -897.17992483  2668.14781659]\n",
      " [-1387.60051944  2357.11022512]\n",
      " [-2318.34181325  2000.67480183]\n",
      " [-2539.70393727  1640.74522007]\n",
      " [-1380.54891993  2545.98628457]\n",
      " [  735.31289116  2627.17204906]\n",
      " [ 2450.7347862   2025.31322583]\n",
      " [  937.49938571  2769.65106293]]\n",
      "[[7235.36629739 1691.40139653]\n",
      " [6634.14725072 1500.94992065]\n",
      " [4266.82007517 1211.85218341]\n",
      " [3776.39948056 1522.88977488]\n",
      " [2845.65818675 1879.32519817]\n",
      " [2624.29606273 2239.25477993]\n",
      " [3783.45108007 1334.01371543]\n",
      " [5899.31289116 1252.82795094]\n",
      " [7614.7347862  1854.68677417]\n",
      " [6101.49938571 1110.34893707]]\n"
     ]
    }
   ],
   "source": [
    "xy_undist = []\n",
    "\n",
    "for var in zip(xy_dist_proj[:,0],xy_dist_proj[:,1]):\n",
    "    xy_undist.append(fsolve(undistord_measurements, (var), args=(var[0], var[1],k1,k2,p1,p2)))\n",
    " \n",
    "xy_undist=np.array(xy_undist)\n",
    "print(xy_undist)\n",
    "\n",
    "xy_undist_proj = (xy_undist*np.array([1,-1]))+np.array([x_center,y_center])\n",
    "print(xy_undist_proj)"
   ]
  },
  {
   "cell_type": "markdown",
   "metadata": {},
   "source": [
    "### Plot both distorded and undistorded position of each measurements"
   ]
  },
  {
   "cell_type": "code",
   "execution_count": 12,
   "metadata": {},
   "outputs": [],
   "source": [
    "img = cv2.imread(im_path)\n",
    "cv2.namedWindow('Distortion plot', cv2.WINDOW_GUI_NORMAL)\n",
    "cv2.imshow('Distortion plot', img)\n",
    "cv2.resizeWindow('Distortion plot', 1200,800)\n",
    "\n",
    "\n",
    "for var in zip(xy_undist_proj[:,0],xy_undist_proj[:,1],xy_dist[:,0],xy_dist[:,1]):\n",
    "    x_undist = int(var[0])\n",
    "    y_undist = int(var[1])\n",
    "    x_dist = int(var[2])\n",
    "    y_dist = int(var[3])\n",
    "\n",
    "    \n",
    "    cv2.line(img, (x_undist,y_undist-buf), (x_undist,y_undist+buf), (0,255,0), 10)\n",
    "    cv2.line(img, (x_undist-buf,y_undist), (x_undist+buf,y_undist), (0,255,0), 10)\n",
    "    \n",
    "    cv2.line(img, (x_dist,y_dist-buf), (x_dist,y_dist+buf), (0,0,255), 10)\n",
    "    cv2.line(img, (x_dist-buf,y_dist), (x_dist+buf,y_dist), (0,0,255), 10)\n",
    "    \n",
    "    cv2.line(img, (x_undist,y_undist), (x_dist,y_dist), (255,0,0), 10)\n",
    "    cv2.imshow('Distortion plot', img)\n",
    "    \n",
    "while True:\n",
    "    k = cv2.waitKey(100)\n",
    "    if k == 27: # wait for ESC key to exit\n",
    "        cv2.destroyAllWindows()\n",
    "        break        \n",
    "    if cv2.getWindowProperty('Distortion plot',cv2.WND_PROP_VISIBLE) < 1:# wait for window to be closed        \n",
    "        break        \n",
    "cv2.destroyAllWindows()"
   ]
  },
  {
   "cell_type": "code",
   "execution_count": 352,
   "metadata": {},
   "outputs": [
    {
     "data": {
      "text/plain": [
       "array([1502.09440348, 2877.14602515, 2920.27795949, 2838.81239175,\n",
       "        757.06709367, 1522.77783783, 2691.07670112])"
      ]
     },
     "execution_count": 352,
     "metadata": {},
     "output_type": "execute_result"
    }
   ],
   "source": [
    "xy_undist[:,0]"
   ]
  },
  {
   "cell_type": "code",
   "execution_count": null,
   "metadata": {},
   "outputs": [],
   "source": []
  }
 ],
 "metadata": {
  "kernelspec": {
   "display_name": "Python 3 (ipykernel)",
   "language": "python",
   "name": "python3"
  },
  "language_info": {
   "codemirror_mode": {
    "name": "ipython",
    "version": 3
   },
   "file_extension": ".py",
   "mimetype": "text/x-python",
   "name": "python",
   "nbconvert_exporter": "python",
   "pygments_lexer": "ipython3",
   "version": "3.10.8"
  },
  "vscode": {
   "interpreter": {
    "hash": "c4453615cd91750b42a92082c1d2e45800de486616e18c6f6e61d58c8451ca01"
   }
  }
 },
 "nbformat": 4,
 "nbformat_minor": 2
}
